{
 "cells": [
  {
   "cell_type": "markdown",
   "metadata": {},
   "source": [
    "## 4. Algorithmic question\n",
    "A number n of kids are in a camp. Between some k pairs of them (a kid can be part of more than one pairs) there are often fights. At night there are two dormitories where the kids can sleep. We want, if possible, to assign each kid in one of the two dormitories in such a way that each pair of kids that fights often is assigned to a different dormitory. (There are no space problems and the two dormitories can have different number of kids.)\n",
    "\n",
    "Give an algorithm that is linear in n and k that is able to answer whether such an assignment is possible and, if so, return one.\n",
    "\n",
    "### Answer:\n",
    "Let in a first time see how we could represent such a problem. <br />\n",
    "This problem could easily represent such a problem with a graph each kid would be a Vertex and each pair would be a vertex. If such a rep is done we could use an adaptation of the BFS to solve this problem. We know from the course that the complexity of such an algorithm is O(n, k) = 2|k| thus it is linear. <br />\n",
    "The algorithm would be the following. <br />\n",
    "In this pseudocode I suppose that every edges know there neigboors and they have a value d initialize at 0 (Normaly use for the distance) and the value 1 or 2 will be assign to them (idicate the dormitory). An other modification will be the Use of a BinaryQueue instead of Queue. The principle of such a data type is to have two queu on who have priorities and the other one when we push the element into the BinaryQueue we choose to assigne it to one of this queu and when we dequeue it will first look in the priority queue and if it is empty it will go to the second queue. This modification is needed as we do not know if the graph is conected and in the case where he is not we do not know the different component of the graph the solution. <br />\n",
    "<br />\n",
    "d1 = list()<br />\n",
    "d2 = list()<br />\n",
    "n = list()<br />\n",
    "q = BinaryQueu()<br />\n",
    "q.push2(n)<br />\n",
    "while(not q.isEmpty()):<br />\n",
    "&nbsp;&nbsp;&nbsp;&nbsp; e = q.dequeue()<br />\n",
    "&nbsp;&nbsp;&nbsp;&nbsp; if e.d == 0:<br/>\n",
    "&nbsp;&nbsp;&nbsp;&nbsp;&nbsp;&nbsp;&nbsp;&nbsp;e.d = 1<br />\n",
    "&nbsp;&nbsp;&nbsp;&nbsp; for neighbour in e:<br />\n",
    "&nbsp;&nbsp;&nbsp;&nbsp;&nbsp;&nbsp;&nbsp;&nbsp;if neighbour.d == 0 :<br />\n",
    "&nbsp;&nbsp;&nbsp;&nbsp;&nbsp;&nbsp;&nbsp;&nbsp;&nbsp;&nbsp;&nbsp;&nbsp;if e.d == 2 <br /> \n",
    "&nbsp;&nbsp;&nbsp;&nbsp;&nbsp;&nbsp;&nbsp;&nbsp;&nbsp;&nbsp;&nbsp;&nbsp; &nbsp;&nbsp;&nbsp;&nbsp;neighbour.d = 1 <br/> &nbsp;&nbsp;&nbsp;&nbsp;&nbsp;&nbsp;&nbsp;&nbsp;&nbsp;&nbsp;&nbsp;&nbsp; &nbsp;&nbsp;&nbsp; d1.add(neighbour)<br />\n",
    "&nbsp;&nbsp;&nbsp;&nbsp;&nbsp;&nbsp;&nbsp;&nbsp;&nbsp;&nbsp;&nbsp;&nbsp;else <br />\n",
    "&nbsp;&nbsp;&nbsp;&nbsp;&nbsp;&nbsp;&nbsp;&nbsp;&nbsp;&nbsp;&nbsp;&nbsp; &nbsp;&nbsp;&nbsp;&nbsp;neighbour.d = 2<br/> &nbsp;&nbsp;&nbsp;&nbsp;&nbsp;&nbsp;&nbsp;&nbsp;&nbsp;&nbsp;&nbsp;&nbsp; &nbsp;&nbsp;&nbsp; d2.add(neighbour)<br />\n",
    "&nbsp;&nbsp;&nbsp;&nbsp;&nbsp;&nbsp;&nbsp;&nbsp;&nbsp;&nbsp;&nbsp;&nbsp; q.push1(neighbour) <br />\n",
    "&nbsp;&nbsp;&nbsp;&nbsp;&nbsp;&nbsp;&nbsp;&nbsp;elif e.d == neighbour.d <br />\n",
    "&nbsp;&nbsp;&nbsp;&nbsp;&nbsp;&nbsp;&nbsp;&nbsp;&nbsp;&nbsp;&nbsp;&nbsp; print(imposible)<br />\n",
    "<br />\n",
    "As we could see the fact that we are using a BinaryQueue will add k to our complexity as we will check as the nodes one more to be sure that all the component of the graph have been seen"
   ]
  },
  {
   "cell_type": "code",
   "execution_count": 11,
   "metadata": {},
   "outputs": [
    {
     "name": "stdout",
     "output_type": "stream",
     "text": [
      "imposible 1 14\n",
      "[0, 16, 5, 13, 9]\n",
      "[19, 14, 10, 8, 1, 15]\n",
      "0 [19, 14, 10, 8, 1, 15]\n"
     ]
    }
   ],
   "source": [
    "# For this question we use some personal DS as BinaryQueu and Edges\n",
    "from DataStructure import BinaryQueue, Edges\n",
    "import numpy as np\n",
    "\n",
    "# Max kid\n",
    "n_k = 20\n",
    "kids = [Edges(i) for i in range(n_k)] # genreate 20 kid\n",
    "d1 = list()\n",
    "d2 = list()\n",
    "n_enemy = 100\n",
    "n = np.random.randint(0, n_k,(n_enemy, 2)) # Generate the k pair\n",
    "# create the network in O(k) = |k|\n",
    "for i in range(len(n)):\n",
    "    i1 = n[i][0]\n",
    "    i2 = n[i][1]\n",
    "    if i1 != i2: \n",
    "        k1 = kids[i1]\n",
    "        k2 = kids[i2]\n",
    "        k1.add(k2)\n",
    "        k2.add(k1)\n",
    "# apply the BFS in O(k) = 3|k|  in our case      \n",
    "q = BinaryQueue()\n",
    "for k in kids:\n",
    "    q.push2(k)\n",
    "while not q.empty():\n",
    "    e = q.dequeue()\n",
    "    if e.d == 0:\n",
    "        e.d = 1\n",
    "        d1.append(e)\n",
    "    for neigboor in e.neighbours:\n",
    "        if neigboor.d == 0:\n",
    "            neigboor.assignd(e, d1, d2)\n",
    "            q.push1(neigboor)\n",
    "        elif neigboor.d == e.d:\n",
    "            print(\"imposible\", e, neigboor)\n",
    "            q.clear()\n",
    "            break\n",
    "print(d1)\n",
    "print(d2)\n",
    "print(kids[0], kids[0].neighbours)"
   ]
  }
 ],
 "metadata": {
  "interpreter": {
   "hash": "916dbcbb3f70747c44a77c7bcd40155683ae19c65e1c03b4aa3499c5328201f1"
  },
  "kernelspec": {
   "display_name": "Python 3.8.10 64-bit",
   "language": "python",
   "name": "python3"
  },
  "language_info": {
   "codemirror_mode": {
    "name": "ipython",
    "version": 3
   },
   "file_extension": ".py",
   "mimetype": "text/x-python",
   "name": "python",
   "nbconvert_exporter": "python",
   "pygments_lexer": "ipython3",
   "version": "3.9.7"
  },
  "orig_nbformat": 4
 },
 "nbformat": 4,
 "nbformat_minor": 2
}
