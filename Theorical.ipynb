{
 "cells": [
  {
   "cell_type": "markdown",
   "metadata": {},
   "source": [
    "## 4. Algorithmic question\n",
    "A number n of kids are in a camp. Between some k pairs of them (a kid can be part of more than one pairs) there are often fights. At night there are two dormitories where the kids can sleep. We want, if possible, to assign each kid in one of the two dormitories in such a way that each pair of kids that fights often is assigned to a different dormitory. (There are no space problems and the two dormitories can have different number of kids.)\n",
    "\n",
    "Give an algorithm that is linear in n and k that is able to answer whether such an assignment is possible and, if so, return one.\n",
    "\n",
    "### Answer:\n",
    "Let in a first time see how we could represent such a problem. <br />\n",
    "This problem could easily represent such a problem with a graph each kid would be a Vertex and each pair would be a vertex. If such a rep is done we could use an adaptation of the BFS to solve this problem. We know from the course that the complexity of such an algorithm is O(n, k) = 2|k| thus it is linear. <br />\n",
    "The algorithm would be the following. <br />\n",
    "In this pseudocode I suppose that every edges know there neigboors and they have a value d initialize at 0 (Normaly use for the distance)<br />\n",
    "<br />\n",
    "d1 = list()<br />\n",
    "d2 = list()<br />\n",
    "n = list()<br />\n",
    "q = Queu()<br />\n",
    "kid1 = n[0]\n",
    "kid1.d = 1\n",
    "q.push(kid1)<br />\n",
    "while(not q.isEmpty()):<br />\n",
    "&nbsp;&nbsp;&nbsp;&nbsp; e = q.dequeue()<br />\n",
    "&nbsp;&nbsp;&nbsp;&nbsp; for neighbour in e:<br />\n",
    "&nbsp;&nbsp;&nbsp;&nbsp;&nbsp;&nbsp;&nbsp;&nbsp;if neighbour.d == 0 :<br />\n",
    "&nbsp;&nbsp;&nbsp;&nbsp;&nbsp;&nbsp;&nbsp;&nbsp;&nbsp;&nbsp;&nbsp;&nbsp;if e.d == 2 <br /> \n",
    "&nbsp;&nbsp;&nbsp;&nbsp;&nbsp;&nbsp;&nbsp;&nbsp;&nbsp;&nbsp;&nbsp;&nbsp; &nbsp;&nbsp;&nbsp;&nbsp;neighbour.d = 1 <br/> &nbsp;&nbsp;&nbsp;&nbsp;&nbsp;&nbsp;&nbsp;&nbsp;&nbsp;&nbsp;&nbsp;&nbsp; &nbsp;&nbsp;&nbsp; d1.add(neighbour)<br />\n",
    "&nbsp;&nbsp;&nbsp;&nbsp;&nbsp;&nbsp;&nbsp;&nbsp;&nbsp;&nbsp;&nbsp;&nbsp;else neighbour.d = 2<br />\n",
    "&nbsp;&nbsp;&nbsp;&nbsp;&nbsp;&nbsp;&nbsp;&nbsp;&nbsp;&nbsp;&nbsp;&nbsp; &nbsp;&nbsp;&nbsp;&nbsp;neighbour.d = 12<br/> &nbsp;&nbsp;&nbsp;&nbsp;&nbsp;&nbsp;&nbsp;&nbsp;&nbsp;&nbsp;&nbsp;&nbsp; &nbsp;&nbsp;&nbsp; d2.add(neighbour)<br />\n",
    "&nbsp;&nbsp;&nbsp;&nbsp;&nbsp;&nbsp;&nbsp;&nbsp;elif e.d == neighbour.d <br />\n",
    "&nbsp;&nbsp;&nbsp;&nbsp;&nbsp;&nbsp;&nbsp;&nbsp;&nbsp;&nbsp;&nbsp;&nbsp; print(imposible)"
   ]
  },
  {
   "cell_type": "code",
   "execution_count": 8,
   "metadata": {},
   "outputs": [],
   "source": [
    "from DataStructure import BinaryQueu, Edges\n",
    "\n",
    "\n",
    "        \n",
    "# The algorithm\n",
    "# Max kid\n",
    "n_k = 20\n",
    "kids = [Edges(i) for i in range(n_k)] # genreate 20 kid\n",
    "d1 = list()\n",
    "d2 = list()\n",
    "n_enemy = 15\n",
    "n = np.random.randint(0, n_k,(n_enemy, 2)) # Generate the k pair\n",
    "# create the network in O(k) = |k|\n",
    "for i in range(len(n)):\n",
    "    i1 = n[i][0]\n",
    "    i2 = n[i][1]\n",
    "    if i1 != i2: \n",
    "        k1 = kids[i1]\n",
    "        k2 = kids[i2]\n",
    "        k1.add(k2)\n",
    "        k2.add(k1)\n",
    "# apply the BFS in O(k) = 2|k|        \n",
    "q = BinaryQueu()\n",
    "for k in kids:\n",
    "    q.push2(k)\n",
    "while not q.empty():\n",
    "    e = q.dequeue()\n",
    "    if e.d == 0:\n",
    "        e.d = 1\n",
    "    for neigboor in e.neighbours:\n",
    "        if neigboor.d == 0:\n",
    "            neigboor.assignd(e, d1, d2)\n",
    "            q.push1(neigboor)\n",
    "        elif neigboor.d == e.d:\n",
    "            print(\"imposible\", e, neigboor)\n",
    "            kids = []\n",
    "            q.queue.clear()\n",
    "            break\n",
    "print(d1)\n",
    "print(d2)"
   ]
  },
  {
   "cell_type": "code",
   "execution_count": null,
   "metadata": {},
   "outputs": [],
   "source": []
  }
 ],
 "metadata": {
  "interpreter": {
   "hash": "916dbcbb3f70747c44a77c7bcd40155683ae19c65e1c03b4aa3499c5328201f1"
  },
  "kernelspec": {
   "display_name": "Python 3.8.10 64-bit",
   "language": "python",
   "name": "python3"
  },
  "language_info": {
   "codemirror_mode": {
    "name": "ipython",
    "version": 3
   },
   "file_extension": ".py",
   "mimetype": "text/x-python",
   "name": "python",
   "nbconvert_exporter": "python",
   "pygments_lexer": "ipython3",
   "version": "3.8.10"
  },
  "orig_nbformat": 4
 },
 "nbformat": 4,
 "nbformat_minor": 2
}
